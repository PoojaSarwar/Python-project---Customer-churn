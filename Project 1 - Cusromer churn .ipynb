{
 "cells": [
  {
   "cell_type": "markdown",
   "id": "2f24eab4-42d5-4ade-8407-368c348bee8b",
   "metadata": {},
   "source": [
    "# Project - customer churn dataset "
   ]
  },
  {
   "cell_type": "code",
   "execution_count": 1,
   "id": "a9e6e24b-fc2c-4157-91f7-005c0de67ef4",
   "metadata": {},
   "outputs": [
    {
     "name": "stdout",
     "output_type": "stream",
     "text": [
      "Requirement already satisfied: pandas in c:\\users\\pooja\\anaconda3\\lib\\site-packages (2.1.4)\n",
      "Requirement already satisfied: numpy in c:\\users\\pooja\\anaconda3\\lib\\site-packages (1.26.4)\n",
      "Requirement already satisfied: matplotlib in c:\\users\\pooja\\anaconda3\\lib\\site-packages (3.8.0)\n",
      "Requirement already satisfied: seaborn in c:\\users\\pooja\\anaconda3\\lib\\site-packages (0.12.2)\n",
      "Requirement already satisfied: plotly in c:\\users\\pooja\\anaconda3\\lib\\site-packages (5.9.0)\n",
      "Requirement already satisfied: scikit-learn in c:\\users\\pooja\\anaconda3\\lib\\site-packages (1.2.2)\n",
      "Requirement already satisfied: statsmodels in c:\\users\\pooja\\anaconda3\\lib\\site-packages (0.14.0)\n",
      "Requirement already satisfied: imbalanced-learn in c:\\users\\pooja\\anaconda3\\lib\\site-packages (0.11.0)\n",
      "Collecting category_encoders\n",
      "  Downloading category_encoders-2.6.3-py2.py3-none-any.whl.metadata (8.0 kB)\n",
      "Requirement already satisfied: python-dateutil>=2.8.2 in c:\\users\\pooja\\anaconda3\\lib\\site-packages (from pandas) (2.8.2)\n",
      "Requirement already satisfied: pytz>=2020.1 in c:\\users\\pooja\\anaconda3\\lib\\site-packages (from pandas) (2023.3.post1)\n",
      "Requirement already satisfied: tzdata>=2022.1 in c:\\users\\pooja\\anaconda3\\lib\\site-packages (from pandas) (2023.3)\n",
      "Requirement already satisfied: contourpy>=1.0.1 in c:\\users\\pooja\\anaconda3\\lib\\site-packages (from matplotlib) (1.2.0)\n",
      "Requirement already satisfied: cycler>=0.10 in c:\\users\\pooja\\anaconda3\\lib\\site-packages (from matplotlib) (0.11.0)\n",
      "Requirement already satisfied: fonttools>=4.22.0 in c:\\users\\pooja\\anaconda3\\lib\\site-packages (from matplotlib) (4.25.0)\n",
      "Requirement already satisfied: kiwisolver>=1.0.1 in c:\\users\\pooja\\anaconda3\\lib\\site-packages (from matplotlib) (1.4.4)\n",
      "Requirement already satisfied: packaging>=20.0 in c:\\users\\pooja\\anaconda3\\lib\\site-packages (from matplotlib) (23.1)\n",
      "Requirement already satisfied: pillow>=6.2.0 in c:\\users\\pooja\\anaconda3\\lib\\site-packages (from matplotlib) (10.2.0)\n",
      "Requirement already satisfied: pyparsing>=2.3.1 in c:\\users\\pooja\\anaconda3\\lib\\site-packages (from matplotlib) (3.0.9)\n",
      "Requirement already satisfied: tenacity>=6.2.0 in c:\\users\\pooja\\anaconda3\\lib\\site-packages (from plotly) (8.2.2)\n",
      "Requirement already satisfied: scipy>=1.3.2 in c:\\users\\pooja\\anaconda3\\lib\\site-packages (from scikit-learn) (1.11.4)\n",
      "Requirement already satisfied: joblib>=1.1.1 in c:\\users\\pooja\\anaconda3\\lib\\site-packages (from scikit-learn) (1.2.0)\n",
      "Requirement already satisfied: threadpoolctl>=2.0.0 in c:\\users\\pooja\\anaconda3\\lib\\site-packages (from scikit-learn) (2.2.0)\n",
      "Requirement already satisfied: patsy>=0.5.2 in c:\\users\\pooja\\anaconda3\\lib\\site-packages (from statsmodels) (0.5.3)\n",
      "Requirement already satisfied: six in c:\\users\\pooja\\anaconda3\\lib\\site-packages (from patsy>=0.5.2->statsmodels) (1.16.0)\n",
      "Downloading category_encoders-2.6.3-py2.py3-none-any.whl (81 kB)\n",
      "   ---------------------------------------- 0.0/81.9 kB ? eta -:--:--\n",
      "   ----------------------------------- ---- 71.7/81.9 kB 2.0 MB/s eta 0:00:01\n",
      "   ---------------------------------------- 81.9/81.9 kB 1.2 MB/s eta 0:00:00\n",
      "Installing collected packages: category_encoders\n",
      "Successfully installed category_encoders-2.6.3\n"
     ]
    },
    {
     "name": "stderr",
     "output_type": "stream",
     "text": [
      "Matplotlib is building the font cache; this may take a moment.\n"
     ]
    }
   ],
   "source": [
    "# Install the necessary libraries (if not already installed)\n",
    "!pip install pandas numpy matplotlib seaborn plotly scikit-learn statsmodels imbalanced-learn category_encoders\n",
    "\n",
    "# Importing the libraries\n",
    "import pandas as pd\n",
    "import numpy as np\n",
    "import matplotlib.pyplot as plt\n",
    "import seaborn as sns\n",
    "import plotly.express as px\n",
    "from sklearn.model_selection import train_test_split\n",
    "from sklearn.preprocessing import StandardScaler, LabelEncoder\n",
    "from sklearn.ensemble import RandomForestClassifier\n",
    "from sklearn.metrics import classification_report, confusion_matrix, roc_curve, auc\n",
    "from imblearn.over_sampling import SMOTE\n",
    "from category_encoders import OneHotEncoder\n",
    "import statsmodels.api as sm"
   ]
  },
  {
   "cell_type": "code",
   "execution_count": 6,
   "id": "d901abfe-763d-4620-b4ec-868af2be45e7",
   "metadata": {},
   "outputs": [
    {
     "name": "stdout",
     "output_type": "stream",
     "text": [
      "   customerID  gender  SeniorCitizen Partner Dependents  tenure PhoneService  \\\n",
      "0  7590-VHVEG  Female              0     Yes         No       1           No   \n",
      "1  5575-GNVDE    Male              0      No         No      34          Yes   \n",
      "2  3668-QPYBK    Male              0      No         No       2          Yes   \n",
      "3  7795-CFOCW    Male              0      No         No      45           No   \n",
      "4  9237-HQITU  Female              0      No         No       2          Yes   \n",
      "\n",
      "      MultipleLines InternetService OnlineSecurity  ... TechSupport  \\\n",
      "0  No phone service             DSL             No  ...          No   \n",
      "1                No             DSL            Yes  ...          No   \n",
      "2                No             DSL            Yes  ...          No   \n",
      "3  No phone service             DSL            Yes  ...         Yes   \n",
      "4                No     Fiber optic             No  ...          No   \n",
      "\n",
      "  StreamingTV StreamingMovies        Contract PaperlessBilling  \\\n",
      "0          No              No  Month-to-month              Yes   \n",
      "1          No              No        One year               No   \n",
      "2          No              No  Month-to-month              Yes   \n",
      "3          No              No        One year               No   \n",
      "4          No              No  Month-to-month              Yes   \n",
      "\n",
      "               PaymentMethod MonthlyCharges TotalCharges  Churn  \\\n",
      "0           Electronic check          29.85        29.85     No   \n",
      "1               Mailed check          56.95       1889.5     No   \n",
      "2               Mailed check          53.85       108.15    Yes   \n",
      "3  Bank transfer (automatic)          42.30      1840.75     No   \n",
      "4           Electronic check          70.70       151.65    Yes   \n",
      "\n",
      "  customer_5_copy  \n",
      "0              No  \n",
      "1              No  \n",
      "2              No  \n",
      "3              No  \n",
      "4              No  \n",
      "\n",
      "[5 rows x 22 columns]\n"
     ]
    }
   ],
   "source": [
    "##### Extract the 5th column and store it in ‘customer_5’\n",
    "\n",
    "data = pd.read_csv(r\"D:\\Data Analytics course\\Python\\Project 1 - Customer churn\\customer_churn.csv\")\n",
    "\n",
    "# Extract the 5th column\n",
    "customer_5 = data.iloc[:, 4]\n",
    "\n",
    "# Add the extracted column as a new column in the DataFrame\n",
    "data['customer_5_copy'] = customer_5\n",
    "\n",
    "# Save the updated DataFrame to a new CSV file in a directory with more permissive access\n",
    "new_file_path = r\"D:\\Data Analytics course\\Python\\Project 1 - Customer churn\\customer_churn.csv\"\n",
    "data.to_csv(new_file_path, index=False)\n",
    "\n",
    "# Display the first few rows of the updated DataFrame to verify\n",
    "print(data.head())\n"
   ]
  },
  {
   "cell_type": "code",
   "execution_count": 8,
   "id": "6e36daa4-3e82-491e-92cb-41b86e9ace20",
   "metadata": {},
   "outputs": [
    {
     "name": "stdout",
     "output_type": "stream",
     "text": [
      "   customerID  gender  SeniorCitizen Partner Dependents  tenure PhoneService  \\\n",
      "0  7590-VHVEG  Female              0     Yes         No       1           No   \n",
      "1  5575-GNVDE    Male              0      No         No      34          Yes   \n",
      "2  3668-QPYBK    Male              0      No         No       2          Yes   \n",
      "3  7795-CFOCW    Male              0      No         No      45           No   \n",
      "4  9237-HQITU  Female              0      No         No       2          Yes   \n",
      "\n",
      "      MultipleLines InternetService OnlineSecurity  ... StreamingTV  \\\n",
      "0  No phone service             DSL             No  ...          No   \n",
      "1                No             DSL            Yes  ...          No   \n",
      "2                No             DSL            Yes  ...          No   \n",
      "3  No phone service             DSL            Yes  ...          No   \n",
      "4                No     Fiber optic             No  ...          No   \n",
      "\n",
      "  StreamingMovies        Contract PaperlessBilling              PaymentMethod  \\\n",
      "0              No  Month-to-month              Yes           Electronic check   \n",
      "1              No        One year               No               Mailed check   \n",
      "2              No  Month-to-month              Yes               Mailed check   \n",
      "3              No        One year               No  Bank transfer (automatic)   \n",
      "4              No  Month-to-month              Yes           Electronic check   \n",
      "\n",
      "  MonthlyCharges TotalCharges Churn  customer_5_copy customer_15_copy  \n",
      "0          29.85        29.85    No               No               No  \n",
      "1          56.95       1889.5    No               No               No  \n",
      "2          53.85       108.15   Yes               No               No  \n",
      "3          42.30      1840.75    No               No               No  \n",
      "4          70.70       151.65   Yes               No               No  \n",
      "\n",
      "[5 rows x 23 columns]\n"
     ]
    }
   ],
   "source": [
    "####● Extract the 15th column and store it in ‘customer_15’\n",
    "\n",
    "\n",
    "data = pd.read_csv(r\"D:\\Data Analytics course\\Python\\Project 1 - Customer churn\\customer_churn.csv\")\n",
    "\n",
    "# Extract the 15th column\n",
    "customer_15 = data.iloc[:, 14]\n",
    "\n",
    "# Add the extracted column as a new column in the DataFrame\n",
    "data['customer_15_copy'] = customer_15\n",
    "\n",
    "# Save the updated DataFrame to a new CSV file in a directory with more permissive access\n",
    "new_file_path = r\"D:\\Data Analytics course\\Python\\Project 1 - Customer churn\\customer_churn.csv\"\n",
    "data.to_csv(new_file_path, index=False)\n",
    "\n",
    "# Display the first few rows of the updated DataFrame to verify\n",
    "print(data.head())"
   ]
  },
  {
   "cell_type": "code",
   "execution_count": 17,
   "id": "0dd25698-7f96-43f6-a8c3-9219fc265e15",
   "metadata": {},
   "outputs": [
    {
     "name": "stdout",
     "output_type": "stream",
     "text": [
      "   customerID gender  SeniorCitizen Partner Dependents  tenure PhoneService  \\\n",
      "0  8779-QRDMV   Male              1      No         No       1           No   \n",
      "1  1658-BYGOY   Male              1      No         No      18          Yes   \n",
      "2  5067-XJQFU   Male              1     Yes        Yes      66          Yes   \n",
      "3  0191-ZHSKZ   Male              1      No         No      30          Yes   \n",
      "4  2424-WVHPL   Male              1      No         No       1          Yes   \n",
      "\n",
      "      MultipleLines InternetService OnlineSecurity  ... StreamingMovies  \\\n",
      "0  No phone service             DSL             No  ...             Yes   \n",
      "1               Yes     Fiber optic             No  ...             Yes   \n",
      "2               Yes     Fiber optic             No  ...             Yes   \n",
      "3                No             DSL            Yes  ...             Yes   \n",
      "4                No     Fiber optic             No  ...              No   \n",
      "\n",
      "         Contract PaperlessBilling     PaymentMethod MonthlyCharges  \\\n",
      "0  Month-to-month              Yes  Electronic check          39.65   \n",
      "1  Month-to-month              Yes  Electronic check          95.45   \n",
      "2        One year              Yes  Electronic check         108.45   \n",
      "3  Month-to-month              Yes  Electronic check          74.75   \n",
      "4  Month-to-month               No  Electronic check          74.70   \n",
      "\n",
      "  TotalCharges Churn customer_5_copy  customer_15_copy  senior_male_electronic  \n",
      "0        39.65   Yes              No               Yes                    True  \n",
      "1      1752.55   Yes              No               Yes                    True  \n",
      "2      7076.35    No             Yes               Yes                    True  \n",
      "3      2111.30    No              No               Yes                    True  \n",
      "4        74.70    No              No                No                    True  \n",
      "\n",
      "[5 rows x 24 columns]\n"
     ]
    }
   ],
   "source": [
    "###● Extract all the male senior citizens whose payment method is electronic\n",
    "#check and store the result in ‘senior_male_electronic’\n",
    "\n",
    "\n",
    "# Load the dataset\n",
    "file_path = r\"D:\\Data Analytics course\\Python\\Project 1 - Customer churn\\customer_churn.csv\"\n",
    "data = pd.read_csv(file_path)\n",
    "\n",
    "# Filter the DataFrame for male senior citizens whose payment method is electronic check\n",
    "condition = (data['gender'] == 'Male') & (data['SeniorCitizen'] == 1) & (data['PaymentMethod'] == 'Electronic check')\n",
    "\n",
    "# Create a new column 'senior_male_electronic' based on the condition\n",
    "data['senior_male_electronic'] = condition\n",
    "\n",
    "# Define the path to save the filtered result\n",
    "output_path = r\"D:\\Data Analytics course\\Python\\Project 1 - Customer churn\\customer_churn.csv\"\n",
    "\n",
    "# Save the updated DataFrame to a new CSV file in a directory with more permissive access\n",
    "new_file_path = r\"D:\\Data Analytics course\\Python\\Project 1 - Customer churn\\customer_churn.csv\"\n",
    "data.to_csv(new_file_path, index=False)\n",
    "\n",
    "# Display the first few rows of the updated DataFrame to verify\n",
    "print(data.head())"
   ]
  },
  {
   "cell_type": "code",
   "execution_count": 19,
   "id": "164f50a9-145b-4218-a7b9-b58f56f06b74",
   "metadata": {},
   "outputs": [
    {
     "name": "stdout",
     "output_type": "stream",
     "text": [
      "   customerID gender  SeniorCitizen Partner Dependents  tenure PhoneService  \\\n",
      "0  8779-QRDMV   Male              1      No         No       1           No   \n",
      "1  1658-BYGOY   Male              1      No         No      18          Yes   \n",
      "2  5067-XJQFU   Male              1     Yes        Yes      66          Yes   \n",
      "3  0191-ZHSKZ   Male              1      No         No      30          Yes   \n",
      "4  2424-WVHPL   Male              1      No         No       1          Yes   \n",
      "\n",
      "      MultipleLines InternetService OnlineSecurity  ...        Contract  \\\n",
      "0  No phone service             DSL             No  ...  Month-to-month   \n",
      "1               Yes     Fiber optic             No  ...  Month-to-month   \n",
      "2               Yes     Fiber optic             No  ...        One year   \n",
      "3                No             DSL            Yes  ...  Month-to-month   \n",
      "4                No     Fiber optic             No  ...  Month-to-month   \n",
      "\n",
      "  PaperlessBilling     PaymentMethod MonthlyCharges TotalCharges Churn  \\\n",
      "0              Yes  Electronic check          39.65        39.65   Yes   \n",
      "1              Yes  Electronic check          95.45      1752.55   Yes   \n",
      "2              Yes  Electronic check         108.45      7076.35    No   \n",
      "3              Yes  Electronic check          74.75      2111.30    No   \n",
      "4               No  Electronic check          74.70        74.70    No   \n",
      "\n",
      "  customer_5_copy customer_15_copy  senior_male_electronic  \\\n",
      "0              No              Yes                    True   \n",
      "1              No              Yes                    True   \n",
      "2             Yes              Yes                    True   \n",
      "3              No              Yes                    True   \n",
      "4              No               No                    True   \n",
      "\n",
      "   customer_total_tenure  \n",
      "0                  False  \n",
      "1                  False  \n",
      "2                   True  \n",
      "3                  False  \n",
      "4                  False  \n",
      "\n",
      "[5 rows x 25 columns]\n"
     ]
    }
   ],
   "source": [
    "##● Extract all those customers whose tenure is greater than 70 months ortheir monthly charges is more than $100 and store the result in\n",
    "#‘customer_total_tenure’\n",
    "\n",
    "# Load the dataset\n",
    "file_path = r'D:\\\\Data Analytics course\\\\Python\\\\Project 1 - Customer churn\\\\customer_churn.csv'\n",
    "data = pd.read_csv(file_path)\n",
    "\n",
    "# Filter the DataFrame for customers whose tenure is greater than 70 months or their monthly charges are more than $100\n",
    "condition = (data['tenure'] > 70) | (data['MonthlyCharges'] > 100)\n",
    "\n",
    "# Create a new column 'customer_total_tenure' based on the condition\n",
    "data['customer_total_tenure'] = condition\n",
    "\n",
    "# Define the path to save the updated DataFrame\n",
    "output_path = r'D:\\\\Data Analytics course\\\\Python\\\\Project 1 - Customer churn\\\\updated_customer_churn.csv'\n",
    "\n",
    "# Save the updated DataFrame to a new CSV file in a directory with more permissive access\n",
    "new_file_path = r\"D:\\Data Analytics course\\Python\\Project 1 - Customer churn\\customer_churn.csv\"\n",
    "data.to_csv(new_file_path, index=False)\n",
    "\n",
    "# Display the first few rows of the updated DataFrame to verify\n",
    "print(data.head())\n"
   ]
  },
  {
   "cell_type": "code",
   "execution_count": 20,
   "id": "3826c691-abee-46fa-b4bd-5d27da1659c7",
   "metadata": {},
   "outputs": [
    {
     "name": "stdout",
     "output_type": "stream",
     "text": [
      "   customerID gender  SeniorCitizen Partner Dependents  tenure PhoneService  \\\n",
      "0  8779-QRDMV   Male              1      No         No       1           No   \n",
      "1  1658-BYGOY   Male              1      No         No      18          Yes   \n",
      "2  5067-XJQFU   Male              1     Yes        Yes      66          Yes   \n",
      "3  0191-ZHSKZ   Male              1      No         No      30          Yes   \n",
      "4  2424-WVHPL   Male              1      No         No       1          Yes   \n",
      "\n",
      "      MultipleLines InternetService OnlineSecurity  ... PaperlessBilling  \\\n",
      "0  No phone service             DSL             No  ...              Yes   \n",
      "1               Yes     Fiber optic             No  ...              Yes   \n",
      "2               Yes     Fiber optic             No  ...              Yes   \n",
      "3                No             DSL            Yes  ...              Yes   \n",
      "4                No     Fiber optic             No  ...               No   \n",
      "\n",
      "      PaymentMethod MonthlyCharges TotalCharges Churn customer_5_copy  \\\n",
      "0  Electronic check          39.65        39.65   Yes              No   \n",
      "1  Electronic check          95.45      1752.55   Yes              No   \n",
      "2  Electronic check         108.45      7076.35    No             Yes   \n",
      "3  Electronic check          74.75      2111.30    No              No   \n",
      "4  Electronic check          74.70        74.70    No              No   \n",
      "\n",
      "  customer_15_copy senior_male_electronic  customer_total_tenure  two_mail_yes  \n",
      "0              Yes                   True                  False         False  \n",
      "1              Yes                   True                  False         False  \n",
      "2              Yes                   True                   True         False  \n",
      "3              Yes                   True                  False         False  \n",
      "4               No                   True                  False         False  \n",
      "\n",
      "[5 rows x 26 columns]\n"
     ]
    }
   ],
   "source": [
    "## Extract all the customers whose contract is of two years, payment method is mailed check and the value of churn is ‘Yes’ and store the result in\n",
    "# ‘two_mail_yes’\n",
    "\n",
    "# Load the dataset\n",
    "file_path = r'D:\\\\Data Analytics course\\\\Python\\\\Project 1 - Customer churn\\\\customer_churn.csv'\n",
    "data = pd.read_csv(file_path)\n",
    "\n",
    "# Filter the DataFrame for customers whose contract is two years, payment method is mailed check, and churn is 'Yes'\n",
    "condition = (data['Contract'] == 'Two year') & (data['PaymentMethod'] == 'Mailed check') & (data['Churn'] == 'Yes')\n",
    "\n",
    "# Create a new column 'two_mail_yes' based on the condition\n",
    "data['two_mail_yes'] = condition\n",
    "\n",
    "# Define the path to save the updated DataFrame\n",
    "output_path = 'D:\\\\Data Analytics course\\\\Python\\\\Project 1 - Customer churn\\\\updated_customer_churn.csv'\n",
    "\n",
    "# Save the updated DataFrame to a new CSV file in a directory with more permissive access\n",
    "new_file_path = r\"D:\\Data Analytics course\\Python\\Project 1 - Customer churn\\customer_churn.csv\"\n",
    "data.to_csv(new_file_path, index=False)\n",
    "\n",
    "# Display the first few rows of the updated DataFrame to verify\n",
    "print(data.head())"
   ]
  },
  {
   "cell_type": "code",
   "execution_count": 22,
   "id": "6a366751-072b-459c-8dc5-dd8239dfcd87",
   "metadata": {},
   "outputs": [
    {
     "name": "stdout",
     "output_type": "stream",
     "text": [
      "   customerID gender  SeniorCitizen Partner Dependents  tenure PhoneService  \\\n",
      "0  8779-QRDMV   Male              1      No         No       1           No   \n",
      "1  1658-BYGOY   Male              1      No         No      18          Yes   \n",
      "2  5067-XJQFU   Male              1     Yes        Yes      66          Yes   \n",
      "3  0191-ZHSKZ   Male              1      No         No      30          Yes   \n",
      "4  2424-WVHPL   Male              1      No         No       1          Yes   \n",
      "\n",
      "      MultipleLines InternetService OnlineSecurity  ...     PaymentMethod  \\\n",
      "0  No phone service             DSL             No  ...  Electronic check   \n",
      "1               Yes     Fiber optic             No  ...  Electronic check   \n",
      "2               Yes     Fiber optic             No  ...  Electronic check   \n",
      "3                No             DSL            Yes  ...  Electronic check   \n",
      "4                No     Fiber optic             No  ...  Electronic check   \n",
      "\n",
      "  MonthlyCharges TotalCharges Churn customer_5_copy customer_15_copy  \\\n",
      "0          39.65        39.65   Yes              No              Yes   \n",
      "1          95.45      1752.55   Yes              No              Yes   \n",
      "2         108.45      7076.35    No             Yes              Yes   \n",
      "3          74.75      2111.30    No              No              Yes   \n",
      "4          74.70        74.70    No              No               No   \n",
      "\n",
      "  senior_male_electronic customer_total_tenure  two_mail_yes  customer_333  \n",
      "0                   True                 False         False          True  \n",
      "1                   True                 False         False          True  \n",
      "2                   True                  True         False          True  \n",
      "3                   True                 False         False          True  \n",
      "4                   True                 False         False          True  \n",
      "\n",
      "[5 rows x 27 columns]\n"
     ]
    }
   ],
   "source": [
    "##● Extract 333 random records from the customer_churndataframe and store\n",
    "#the result in ‘customer_333’\n",
    "\n",
    "file_path = r'D:\\\\Data Analytics course\\\\Python\\\\Project 1 - Customer churn\\\\customer_churn.csv'\n",
    "data = pd.read_csv(file_path)\n",
    "\n",
    "# Check the number of rows in the DataFrame\n",
    "num_rows = len(data)\n",
    "\n",
    "# Ensure you can sample up to 333 records\n",
    "if num_rows >= 333:\n",
    "    # Select 333 random records\n",
    "    random_333 = data.sample(n=333, replace=False, random_state=1).index\n",
    "else:\n",
    "    # Sample the entire DataFrame\n",
    "    random_333 = data.index\n",
    "\n",
    "# Create a new column 'customer_333' based on whether the index is in the random_333\n",
    "data['customer_333'] = data.index.isin(random_333)\n",
    "\n",
    "# Define the path to save the updated DataFrame\n",
    "output_path = 'D:\\\\Data Analytics course\\\\Python\\\\Project 1 - Customer churn\\\\updated_customer_churn.csv'\n",
    "\n",
    "# Save the updated DataFrame to a new CSV file in a directory with more permissive access\n",
    "new_file_path = r\"D:\\Data Analytics course\\Python\\Project 1 - Customer churn\\customer_churn.csv\"\n",
    "data.to_csv(new_file_path, index=False)\n",
    "\n",
    "# Display the first few rows of the updated DataFrame to verify\n",
    "print(data.head())"
   ]
  },
  {
   "cell_type": "code",
   "execution_count": 23,
   "id": "bd416032-a714-4cde-ac08-93e0da41eae1",
   "metadata": {},
   "outputs": [
    {
     "name": "stdout",
     "output_type": "stream",
     "text": [
      "   customerID gender  SeniorCitizen Partner Dependents  tenure PhoneService  \\\n",
      "0  8779-QRDMV   Male              1      No         No       1           No   \n",
      "1  1658-BYGOY   Male              1      No         No      18          Yes   \n",
      "2  5067-XJQFU   Male              1     Yes        Yes      66          Yes   \n",
      "3  0191-ZHSKZ   Male              1      No         No      30          Yes   \n",
      "4  2424-WVHPL   Male              1      No         No       1          Yes   \n",
      "\n",
      "      MultipleLines InternetService OnlineSecurity  ... MonthlyCharges  \\\n",
      "0  No phone service             DSL             No  ...          39.65   \n",
      "1               Yes     Fiber optic             No  ...          95.45   \n",
      "2               Yes     Fiber optic             No  ...         108.45   \n",
      "3                No             DSL            Yes  ...          74.75   \n",
      "4                No     Fiber optic             No  ...          74.70   \n",
      "\n",
      "  TotalCharges Churn customer_5_copy customer_15_copy senior_male_electronic  \\\n",
      "0        39.65   Yes              No              Yes                   True   \n",
      "1      1752.55   Yes              No              Yes                   True   \n",
      "2      7076.35    No             Yes              Yes                   True   \n",
      "3      2111.30    No              No              Yes                   True   \n",
      "4        74.70    No              No               No                   True   \n",
      "\n",
      "  customer_total_tenure two_mail_yes  customer_333  total_count  \n",
      "0                 False        False          True          159  \n",
      "1                 False        False          True          159  \n",
      "2                  True        False          True          139  \n",
      "3                 False        False          True          139  \n",
      "4                 False        False          True          139  \n",
      "\n",
      "[5 rows x 28 columns]\n"
     ]
    }
   ],
   "source": [
    "# Get the count of different levels from the ‘Churn’ column\n",
    "# Load the dataset\n",
    "file_path = r'D:\\\\Data Analytics course\\\\Python\\\\Project 1 - Customer churn\\\\customer_churn.csv'\n",
    "data = pd.read_csv(file_path)\n",
    "\n",
    "# Get the counts of different levels in the 'Churn' column\n",
    "churn_counts = data['Churn'].value_counts()\n",
    "\n",
    "# Create a new column 'total_count' based on the 'Churn' column counts\n",
    "data['total_count'] = data['Churn'].map(churn_counts)\n",
    "\n",
    "# Define the path to save the updated DataFrame\n",
    "output_path = r'D:\\\\Data Analytics course\\\\Python\\\\Project 1 - Customer churn\\\\updated_customer_churn.csv'\n",
    "\n",
    "# Save the updated DataFrame to a new CSV file in a directory with more permissive access\n",
    "new_file_path = r\"D:\\Data Analytics course\\Python\\Project 1 - Customer churn\\customer_churn.csv\"\n",
    "data.to_csv(new_file_path, index=False)\n",
    "\n",
    "# Display the first few rows of the updated DataFrame to verify\n",
    "print(data.head())"
   ]
  },
  {
   "cell_type": "code",
   "execution_count": 25,
   "id": "1f097a0e-e3d9-4646-a749-b36596a0ebd2",
   "metadata": {},
   "outputs": [
    {
     "data": {
      "image/png": "[encoded data removed]",
      "text/plain": [
       "<Figure size 600x400 with 1 Axes>"
      ]
     },
     "metadata": {},
     "output_type": "display_data"
    }
   ],
   "source": [
    "#● Build a bar-plot for the ’InternetService’ column:\n",
    "#a. Set x-axis label to ‘Categories of Internet Service’\n",
    "#b. Set y-axis label to ‘Count of Categories’\n",
    "#c. Set the title of plot to be ‘Distribution of Internet Service’\n",
    "#d. Set the color of the bars to be ‘orange\n",
    "\n",
    "# Load the dataset\n",
    "file_path = r'D:\\\\Data Analytics course\\\\Python\\\\Project 1 - Customer churn\\\\customer_churn.csv'\n",
    "data = pd.read_csv(file_path)\n",
    "\n",
    "# Get counts of each category in 'InternetService' column\n",
    "internet_counts = data['InternetService'].value_counts()\n",
    "\n",
    "# Plotting\n",
    "plt.figure(figsize=(6, 4))\n",
    "plt.bar(internet_counts.index, internet_counts.values, color='orange')\n",
    "\n",
    "# Adding labels and title\n",
    "plt.xlabel('Categories of Internet Service')\n",
    "plt.ylabel('Count of Categories')\n",
    "plt.title('Distribution of Internet Service')\n",
    "\n",
    "# Display the plot\n",
    "plt.show()"
   ]
  },
  {
   "cell_type": "code",
   "execution_count": null,
   "id": "f71a51f0-faad-4066-8a4c-e4013c3426ed",
   "metadata": {},
   "outputs": [],
   "source": []
  },
  {
   "cell_type": "code",
   "execution_count": 26,
   "id": "5529b455-3a18-4892-85e9-4b37dccd7a9d",
   "metadata": {},
   "outputs": [
    {
     "data": {
      "image/png": "[encoded data removed]",
      "text/plain": [
       "<Figure size 800x600 with 1 Axes>"
      ]
     },
     "metadata": {},
     "output_type": "display_data"
    }
   ],
   "source": [
    "#● Build a histogram for the ‘tenure’ column:\n",
    "#a. Set the number of bins to be 30\n",
    "#b. Set the color of the bins to be ‘green’\n",
    "#c. Assign the title ‘Distribution of tenure'\n",
    "\n",
    "\n",
    "file_path = r'D:\\\\Data Analytics course\\\\Python\\\\Project 1 - Customer churn\\\\customer_churn.csv'\n",
    "data = pd.read_csv(file_path)\n",
    "\n",
    "# Plotting\n",
    "plt.figure(figsize=(8, 6))\n",
    "plt.hist(data['tenure'], bins=30, color='green', edgecolor='black')\n",
    "\n",
    "# Adding labels and title\n",
    "plt.xlabel('Tenure')\n",
    "plt.ylabel('Frequency')\n",
    "plt.title('Distribution of Tenure')\n",
    "\n",
    "# Display the plot\n",
    "plt.show()"
   ]
  },
  {
   "cell_type": "markdown",
   "id": "af2fb71b-b697-4fcf-ad18-54d2899c638c",
   "metadata": {},
   "source": [
    "Build a scatter-plot between ‘MonthlyCharges’ and ‘tenure’. Map ‘MonthlyCharges’ to the y-axis and ‘tenure’ to the ‘x-axis’:\n",
    "a. Assign the points a color of ‘brown’\n",
    "b. Set the x-axis label to ‘Tenure of customer’\n",
    "c. Set the y-axis label to ‘Monthly Charges of customer’\n",
    "d. Set the title to ‘Tenure vs Monthly Charges’\n",
    "e. Build a box-plot between ‘tenure’ & ‘Contract’. Map ‘tenure’ on the\n",
    "y-axis &\n",
    "f. ‘Contract’ on the x-axis"
   ]
  },
  {
   "cell_type": "code",
   "execution_count": 27,
   "id": "147585dd-53af-40b6-b9e2-f4125df1e166",
   "metadata": {},
   "outputs": [
    {
     "data": {
      "image/png": "[encoded data removed]",
      "text/plain": [
       "<Figure size 1000x600 with 1 Axes>"
      ]
     },
     "metadata": {},
     "output_type": "display_data"
    },
    {
     "data": {
      "image/png": "[encoded data removed]",
      "text/plain": [
       "<Figure size 1000x600 with 1 Axes>"
      ]
     },
     "metadata": {},
     "output_type": "display_data"
    }
   ],
   "source": [
    "\n",
    "\n",
    "# Scatter plot\n",
    "plt.figure(figsize=(10, 6))\n",
    "plt.scatter(data['tenure'], data['MonthlyCharges'], color='brown')\n",
    "\n",
    "# Adding labels and title\n",
    "plt.xlabel('Tenure of customer')\n",
    "plt.ylabel('Monthly Charges of customer')\n",
    "plt.title('Tenure vs Monthly Charges')\n",
    "\n",
    "# Display the scatter plot\n",
    "plt.show()\n",
    "\n",
    "# Box plot\n",
    "plt.figure(figsize=(10, 6))\n",
    "plt.boxplot(data.groupby('Contract')['tenure'].apply(list), labels=data['Contract'].unique())\n",
    "\n",
    "# Adding labels and title\n",
    "plt.xlabel('Contract')\n",
    "plt.ylabel('Tenure')\n",
    "plt.title('Tenure distribution across Contract types')\n",
    "\n",
    "# Display the box plot\n",
    "plt.show()"
   ]
  },
  {
   "cell_type": "raw",
   "id": "c7756cbc-aaed-421b-8d0d-28ef0bfaf731",
   "metadata": {},
   "source": [
    "● Build a simple linear model where dependent variable is ‘MonthlyCharges’\n",
    "and independent variable is ‘tenure’:\n",
    "a. Divide the dataset into train and test sets in 70:30 ratio.\n",
    "b. Build the model on train set and predict the values on test set\n",
    "c. After predicting the values, find the root mean square error\n",
    "d. Find out the error in prediction & store the result in ‘error’\n",
    "e. Find the root mean square error"
   ]
  },
  {
   "cell_type": "code",
   "execution_count": 36,
   "id": "5aceb7e0-8a5a-4397-bda3-edcbd8fa7d08",
   "metadata": {},
   "outputs": [
    {
     "name": "stdout",
     "output_type": "stream",
     "text": [
      "Root Mean Squared Error (RMSE): 20.57\n"
     ]
    },
    {
     "ename": "ValueError",
     "evalue": "Must have equal len keys and value when setting with an iterable",
     "output_type": "error",
     "traceback": [
      "\u001b[1;31m---------------------------------------------------------------------------\u001b[0m",
      "\u001b[1;31mValueError\u001b[0m                                Traceback (most recent call last)",
      "Cell \u001b[1;32mIn[36], line 36\u001b[0m\n\u001b[0;32m     34\u001b[0m \u001b[38;5;66;03m# Store the results in the DataFrame\u001b[39;00m\n\u001b[0;32m     35\u001b[0m data[\u001b[38;5;124m'\u001b[39m\u001b[38;5;124merror\u001b[39m\u001b[38;5;124m'\u001b[39m] \u001b[38;5;241m=\u001b[39m np\u001b[38;5;241m.\u001b[39mnan  \u001b[38;5;66;03m# Initialize error column with NaNs\u001b[39;00m\n\u001b[1;32m---> 36\u001b[0m data\u001b[38;5;241m.\u001b[39mloc[data\u001b[38;5;241m.\u001b[39mindex\u001b[38;5;241m.\u001b[39misin(X_test\u001b[38;5;241m.\u001b[39mflatten()), \u001b[38;5;124m'\u001b[39m\u001b[38;5;124merror\u001b[39m\u001b[38;5;124m'\u001b[39m] \u001b[38;5;241m=\u001b[39m error  \u001b[38;5;66;03m# Assign error values to test set rows\u001b[39;00m\n\u001b[0;32m     38\u001b[0m \u001b[38;5;66;03m# Display the updated DataFrame with error column\u001b[39;00m\n\u001b[0;32m     39\u001b[0m \u001b[38;5;28mprint\u001b[39m(data\u001b[38;5;241m.\u001b[39mhead())\n",
      "File \u001b[1;32m~\\anaconda3\\Lib\\site-packages\\pandas\\core\\indexing.py:885\u001b[0m, in \u001b[0;36m_LocationIndexer.__setitem__\u001b[1;34m(self, key, value)\u001b[0m\n\u001b[0;32m    882\u001b[0m \u001b[38;5;28mself\u001b[39m\u001b[38;5;241m.\u001b[39m_has_valid_setitem_indexer(key)\n\u001b[0;32m    884\u001b[0m iloc \u001b[38;5;241m=\u001b[39m \u001b[38;5;28mself\u001b[39m \u001b[38;5;28;01mif\u001b[39;00m \u001b[38;5;28mself\u001b[39m\u001b[38;5;241m.\u001b[39mname \u001b[38;5;241m==\u001b[39m \u001b[38;5;124m\"\u001b[39m\u001b[38;5;124miloc\u001b[39m\u001b[38;5;124m\"\u001b[39m \u001b[38;5;28;01melse\u001b[39;00m \u001b[38;5;28mself\u001b[39m\u001b[38;5;241m.\u001b[39mobj\u001b[38;5;241m.\u001b[39miloc\n\u001b[1;32m--> 885\u001b[0m iloc\u001b[38;5;241m.\u001b[39m_setitem_with_indexer(indexer, value, \u001b[38;5;28mself\u001b[39m\u001b[38;5;241m.\u001b[39mname)\n",
      "File \u001b[1;32m~\\anaconda3\\Lib\\site-packages\\pandas\\core\\indexing.py:1893\u001b[0m, in \u001b[0;36m_iLocIndexer._setitem_with_indexer\u001b[1;34m(self, indexer, value, name)\u001b[0m\n\u001b[0;32m   1890\u001b[0m \u001b[38;5;66;03m# align and set the values\u001b[39;00m\n\u001b[0;32m   1891\u001b[0m \u001b[38;5;28;01mif\u001b[39;00m take_split_path:\n\u001b[0;32m   1892\u001b[0m     \u001b[38;5;66;03m# We have to operate column-wise\u001b[39;00m\n\u001b[1;32m-> 1893\u001b[0m     \u001b[38;5;28mself\u001b[39m\u001b[38;5;241m.\u001b[39m_setitem_with_indexer_split_path(indexer, value, name)\n\u001b[0;32m   1894\u001b[0m \u001b[38;5;28;01melse\u001b[39;00m:\n\u001b[0;32m   1895\u001b[0m     \u001b[38;5;28mself\u001b[39m\u001b[38;5;241m.\u001b[39m_setitem_single_block(indexer, value, name)\n",
      "File \u001b[1;32m~\\anaconda3\\Lib\\site-packages\\pandas\\core\\indexing.py:1949\u001b[0m, in \u001b[0;36m_iLocIndexer._setitem_with_indexer_split_path\u001b[1;34m(self, indexer, value, name)\u001b[0m\n\u001b[0;32m   1944\u001b[0m     \u001b[38;5;28;01mif\u001b[39;00m \u001b[38;5;28mlen\u001b[39m(value) \u001b[38;5;241m==\u001b[39m \u001b[38;5;241m1\u001b[39m \u001b[38;5;129;01mand\u001b[39;00m \u001b[38;5;129;01mnot\u001b[39;00m is_integer(info_axis):\n\u001b[0;32m   1945\u001b[0m         \u001b[38;5;66;03m# This is a case like df.iloc[:3, [1]] = [0]\u001b[39;00m\n\u001b[0;32m   1946\u001b[0m         \u001b[38;5;66;03m#  where we treat as df.iloc[:3, 1] = 0\u001b[39;00m\n\u001b[0;32m   1947\u001b[0m         \u001b[38;5;28;01mreturn\u001b[39;00m \u001b[38;5;28mself\u001b[39m\u001b[38;5;241m.\u001b[39m_setitem_with_indexer((pi, info_axis[\u001b[38;5;241m0\u001b[39m]), value[\u001b[38;5;241m0\u001b[39m])\n\u001b[1;32m-> 1949\u001b[0m     \u001b[38;5;28;01mraise\u001b[39;00m \u001b[38;5;167;01mValueError\u001b[39;00m(\n\u001b[0;32m   1950\u001b[0m         \u001b[38;5;124m\"\u001b[39m\u001b[38;5;124mMust have equal len keys and value \u001b[39m\u001b[38;5;124m\"\u001b[39m\n\u001b[0;32m   1951\u001b[0m         \u001b[38;5;124m\"\u001b[39m\u001b[38;5;124mwhen setting with an iterable\u001b[39m\u001b[38;5;124m\"\u001b[39m\n\u001b[0;32m   1952\u001b[0m     )\n\u001b[0;32m   1954\u001b[0m \u001b[38;5;28;01melif\u001b[39;00m lplane_indexer \u001b[38;5;241m==\u001b[39m \u001b[38;5;241m0\u001b[39m \u001b[38;5;129;01mand\u001b[39;00m \u001b[38;5;28mlen\u001b[39m(value) \u001b[38;5;241m==\u001b[39m \u001b[38;5;28mlen\u001b[39m(\u001b[38;5;28mself\u001b[39m\u001b[38;5;241m.\u001b[39mobj\u001b[38;5;241m.\u001b[39mindex):\n\u001b[0;32m   1955\u001b[0m     \u001b[38;5;66;03m# We get here in one case via .loc with a all-False mask\u001b[39;00m\n\u001b[0;32m   1956\u001b[0m     \u001b[38;5;28;01mpass\u001b[39;00m\n",
      "\u001b[1;31mValueError\u001b[0m: Must have equal len keys and value when setting with an iterable"
     ]
    }
   ],
   "source": [
    "import pandas as pd\n",
    "import numpy as np\n",
    "from sklearn.model_selection import train_test_split\n",
    "from sklearn.linear_model import LinearRegression\n",
    "from sklearn.metrics import mean_squared_error\n",
    "\n",
    "# Load the dataset\n",
    "file_path = r'D:\\\\Data Analytics course\\\\Python\\\\Project 1 - Customer churn\\\\customer_churn.csv'\n",
    "data = pd.read_csv(file_path)\n",
    "\n",
    "# Prepare the data\n",
    "X = data['tenure'].values.reshape(-1, 1)  # Independent variable: tenure\n",
    "y = data['MonthlyCharges'].values  # Dependent variable: MonthlyCharges\n",
    "\n",
    "# Split the dataset into train and test sets (70:30 ratio)\n",
    "X_train, X_test, y_train, y_test = train_test_split(X, y, test_size=0.3, random_state=1)\n",
    "\n",
    "# Build the linear regression model\n",
    "model = LinearRegression()\n",
    "model.fit(X_train, y_train)\n",
    "\n",
    "# Predict on test set\n",
    "y_pred = model.predict(X_test)\n",
    "\n",
    "# Calculate root mean squared error (RMSE)\n",
    "rmse = np.sqrt(mean_squared_error(y_test, y_pred))\n",
    "\n",
    "# Calculate the error in prediction\n",
    "error = y_test - y_pred\n",
    "\n",
    "# Print RMSE and error\n",
    "print(f'Root Mean Squared Error (RMSE): {rmse:.2f}')\n",
    "\n",
    "# Store the results in the DataFrame\n",
    "data['error'] = np.nan  # Initialize error column with NaNs\n",
    "data.loc[data.index.isin(X_test.flatten()), 'error'] = error  # Assign error values to test set rows\n",
    "\n",
    "# Display the updated DataFrame with error column\n",
    "print(data.head())"
   ]
  },
  {
   "cell_type": "markdown",
   "id": "30198516-08b0-46e3-8353-60873a4dcc45",
   "metadata": {},
   "source": [
    "● Build a simple logistic regression model where dependent variable is\n",
    "‘Churn’ and independent variable is ‘MonthlyCharges’:\n",
    "a. Divide the dataset in 65:35 ratio\n",
    "b. Build the model on train set and predict the values on test set\n",
    "c. Build the confusion matrix and get the accuracy score\n",
    "d. Build a multiple logistic regression model where dependent variable\n",
    "is ‘Churn’ and independent variables are ‘tenure’ and\n",
    "‘MonthlyCharges’\n",
    "e. Divide the dataset in 80:20 ratio\n",
    "f. Build the model on train set and predict the values on test set\n",
    "g. Build the confusion matrix and get the accuracy score"
   ]
  },
  {
   "cell_type": "code",
   "execution_count": 39,
   "id": "5c873f15-a52c-4adb-a177-ce5c49fe9144",
   "metadata": {},
   "outputs": [
    {
     "name": "stdout",
     "output_type": "stream",
     "text": [
      "Confusion Matrix:\n",
      "[[ 0 48]\n",
      " [ 0 57]]\n",
      "Accuracy Score: 0.54\n"
     ]
    }
   ],
   "source": [
    "from sklearn.model_selection import train_test_split\n",
    "from sklearn.linear_model import LogisticRegression\n",
    "from sklearn.metrics import confusion_matrix, accuracy_score\n",
    "\n",
    "\n",
    "# Load the dataset\n",
    "file_path = r'D:\\\\Data Analytics course\\\\Python\\\\Project 1 - Customer churn\\\\customer_churn.csv'\n",
    "data = pd.read_csv(file_path)\n",
    "\n",
    "# Prepare the data\n",
    "X = data['MonthlyCharges'].values.reshape(-1, 1)  # Independent variable: MonthlyCharges\n",
    "y = data['Churn']  # Dependent variable: Churn\n",
    "\n",
    "# Split the dataset into train and test sets (65:35 ratio)\n",
    "X_train, X_test, y_train, y_test = train_test_split(X, y, test_size=0.35, random_state=1)\n",
    "\n",
    "# Build the logistic regression model\n",
    "model = LogisticRegression(random_state=1)\n",
    "model.fit(X_train, y_train)\n",
    "\n",
    "# Predict on test set\n",
    "y_pred = model.predict(X_test)\n",
    "\n",
    "# Build confusion matrix and calculate accuracy score\n",
    "conf_matrix = confusion_matrix(y_test, y_pred)\n",
    "accuracy = accuracy_score(y_test, y_pred)\n",
    "\n",
    "# Print confusion matrix and accuracy score\n",
    "print(\"Confusion Matrix:\")\n",
    "print(conf_matrix)\n",
    "print(f\"Accuracy Score: {accuracy:.2f}\")"
   ]
  },
  {
   "cell_type": "markdown",
   "id": "a17fc6d3-41d6-4574-833b-abcc25866758",
   "metadata": {},
   "source": [
    "Build a decision tree model where dependent variable is ‘Churn’ and\n",
    "independent variable is ‘tenure’:\n",
    "a. Divide the dataset in 80:20 ratio\n",
    "b. Build the model on train set and predict the values on test set\n",
    "c. Build the confusion matrix and calculate the accuracy"
   ]
  },
  {
   "cell_type": "code",
   "execution_count": 40,
   "id": "9ac23820-f1fe-446f-b168-9fd97ff52ee0",
   "metadata": {},
   "outputs": [
    {
     "name": "stdout",
     "output_type": "stream",
     "text": [
      "Confusion Matrix:\n",
      "[[19  7]\n",
      " [13 21]]\n",
      "Accuracy Score: 0.67\n"
     ]
    }
   ],
   "source": [
    "import pandas as pd\n",
    "from sklearn.model_selection import train_test_split\n",
    "from sklearn.tree import DecisionTreeClassifier\n",
    "from sklearn.metrics import confusion_matrix, accuracy_score\n",
    "\n",
    "# Load the dataset\n",
    "file_path = r'D:\\\\Data Analytics course\\\\Python\\\\Project 1 - Customer churn\\\\customer_churn.csv'\n",
    "data = pd.read_csv(file_path)\n",
    "\n",
    "# Prepare the data\n",
    "X = data['tenure'].values.reshape(-1, 1)  # Independent variable: tenure\n",
    "y = data['Churn']  # Dependent variable: Churn\n",
    "\n",
    "# Split the dataset into train and test sets (80:20 ratio)\n",
    "X_train, X_test, y_train, y_test = train_test_split(X, y, test_size=0.2, random_state=1)\n",
    "\n",
    "# Build the decision tree model\n",
    "model = DecisionTreeClassifier(random_state=1)\n",
    "model.fit(X_train, y_train)\n",
    "\n",
    "# Predict on test set\n",
    "y_pred = model.predict(X_test)\n",
    "\n",
    "# Build confusion matrix and calculate accuracy score\n",
    "conf_matrix = confusion_matrix(y_test, y_pred)\n",
    "accuracy = accuracy_score(y_test, y_pred)\n",
    "\n",
    "# Print confusion matrix and accuracy score\n",
    "print(\"Confusion Matrix:\")\n",
    "print(conf_matrix)\n",
    "print(f\"Accuracy Score: {accuracy:.2f}\")"
   ]
  },
  {
   "cell_type": "markdown",
   "id": "a2b179e7-9c13-41c4-bb63-f0cee038ca04",
   "metadata": {},
   "source": [
    "● Build a Random Forest model where dependent variable is ‘Churn’ and\n",
    "independent variables are ‘tenure’ and ‘MonthlyCharges’:\n",
    "a. Divide the dataset in 70:30 ratio\n",
    "b. Build the model on train set and predict the values on test set\n",
    "c. Build the confusion matrix and calculate the accuracy"
   ]
  },
  {
   "cell_type": "code",
   "execution_count": 41,
   "id": "db18a888-9534-466d-bf00-e16fae7e7967",
   "metadata": {},
   "outputs": [
    {
     "name": "stdout",
     "output_type": "stream",
     "text": [
      "Confusion Matrix:\n",
      "[[24 18]\n",
      " [13 35]]\n",
      "Accuracy Score: 0.66\n"
     ]
    }
   ],
   "source": [
    "\n",
    "# Load the dataset\n",
    "file_path = r'D:\\\\Data Analytics course\\\\Python\\\\Project 1 - Customer churn\\\\customer_churn.csv'\n",
    "data = pd.read_csv(file_path)\n",
    "\n",
    "# Prepare the data\n",
    "X = data[['tenure', 'MonthlyCharges']]  # Independent variables: tenure and MonthlyCharges\n",
    "y = data['Churn']  # Dependent variable: Churn\n",
    "\n",
    "# Split the dataset into train and test sets (70:30 ratio)\n",
    "X_train, X_test, y_train, y_test = train_test_split(X, y, test_size=0.3, random_state=1)\n",
    "\n",
    "# Build the Random Forest model\n",
    "model = RandomForestClassifier(random_state=1)\n",
    "model.fit(X_train, y_train)\n",
    "\n",
    "# Predict on test set\n",
    "y_pred = model.predict(X_test)\n",
    "\n",
    "# Build confusion matrix and calculate accuracy score\n",
    "conf_matrix = confusion_matrix(y_test, y_pred)\n",
    "accuracy = accuracy_score(y_test, y_pred)\n",
    "\n",
    "# Print confusion matrix and accuracy score\n",
    "print(\"Confusion Matrix:\")\n",
    "print(conf_matrix)\n",
    "print(f\"Accuracy Score: {accuracy:.2f}\")"
   ]
  },
  {
   "cell_type": "code",
   "execution_count": null,
   "id": "a21a67e2-6d76-4fec-942a-ab9eda2e9803",
   "metadata": {},
   "outputs": [],
   "source": []
  }
 ],
 "metadata": {
  "kernelspec": {
   "display_name": "Python 3 (ipykernel)",
   "language": "python",
   "name": "python3"
  },
  "language_info": {
   "codemirror_mode": {
    "name": "ipython",
    "version": 3
   },
   "file_extension": ".py",
   "mimetype": "text/x-python",
   "name": "python",
   "nbconvert_exporter": "python",
   "pygments_lexer": "ipython3",
   "version": "3.11.7"
  }
 },
 "nbformat": 4,
 "nbformat_minor": 5
}
